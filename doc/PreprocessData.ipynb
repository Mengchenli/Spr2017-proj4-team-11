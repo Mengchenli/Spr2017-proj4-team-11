{
 "cells": [
  {
   "cell_type": "markdown",
   "metadata": {},
   "source": [
    "# Load packages and specify the directory"
   ]
  },
  {
   "cell_type": "code",
   "execution_count": 1,
   "metadata": {
    "collapsed": false
   },
   "outputs": [],
   "source": [
    "import numpy as np\n",
    "import pandas as pd\n",
    "from scipy.misc import comb"
   ]
  },
  {
   "cell_type": "markdown",
   "metadata": {},
   "source": [
    "# Create Features"
   ]
  },
  {
   "cell_type": "code",
   "execution_count": 2,
   "metadata": {
    "collapsed": true
   },
   "outputs": [],
   "source": [
    "def p_sml(r1,r2):\n",
    "    '''\n",
    "    parameters : r1,r2 are 2 array of arrays, e.g. [['a1','a2','a3'],['t1','t2']],[['a1','a4'],['t2','t5']]\n",
    "                 w is an array, the weight parameter to adjust importance of each feature, shape is (n_feature,)\n",
    "    output: sim is the similarity vector between r1 and r2\n",
    "    '''\n",
    "    k1 = np.intersect1d(r1[0],r2[0]).shape[0]/(1.0*min(len(r1[0]),len(r2[0])))\n",
    "    k2 = np.intersect1d(r1[1],r2[1]).shape[0]/(1.0*min(len(r1[1]),len(r2[1])))\n",
    "    sim = np.array((k1,k2))\n",
    "    return sim "
   ]
  },
  {
   "cell_type": "code",
   "execution_count": 3,
   "metadata": {
    "collapsed": true
   },
   "outputs": [],
   "source": [
    "def createFeature(df,features,k):\n",
    "    '''\n",
    "    input: df a dataframe contains k features and 1 label\n",
    "           features is a list of k names of features to be used\n",
    "           flist is a list of k names of features to be generated\n",
    "    output: save pairwise features as a .csv\n",
    "    '''\n",
    "    X = df.ix[:,features].values\n",
    "    y = df['label'].values\n",
    "    n = X.shape[0]\n",
    "    all_feature = []\n",
    "    for i in range(n):\n",
    "        for j in range(n):\n",
    "            p = p_sml(X[i,],X[j,])\n",
    "            is_same = int(y[i]==y[j])\n",
    "            all_feature.append([(i,j),p[0],p[1],is_same])\n",
    "    new_df = pd.DataFrame(all_feature)\n",
    "    new_df.columns = ['pair','n_coauthor','onegram_journal','is_same']\n",
    "    fpath = '../data/feature'+str(k)+'_ziwei.csv'\n",
    "    new_df.to_csv(fpath)\n",
    "    \n",
    "    print('features sucessfully saved!')"
   ]
  },
  {
   "cell_type": "code",
   "execution_count": 4,
   "metadata": {
    "collapsed": true
   },
   "outputs": [],
   "source": [
    "def cleanData(i):\n",
    "    fpath = '../data/text'+str(i)+'.csv'\n",
    "    df = pd.read_csv(fpath)\n",
    "    df.journalTitle = df.journalTitle.fillna('')\n",
    "    df.coauthor = df.coauthor.fillna('')\n",
    "    df.journalTitle = [x.split(\"|\") for x in df.journalTitle.tolist()]\n",
    "    df.coauthor = [x.split(\"|\") for x in df.coauthor.tolist()]\n",
    "    \n",
    "    # use partial features to test the algorithm\n",
    "    features = ['coauthor','journalTitle']\n",
    "    label = 'authorNum'\n",
    "    my_df = df[features]\n",
    "    my_df = my_df.assign(label=df[label].values)\n",
    "    \n",
    "    return my_df"
   ]
  },
  {
   "cell_type": "code",
   "execution_count": 5,
   "metadata": {
    "collapsed": false
   },
   "outputs": [
    {
     "name": "stdout",
     "output_type": "stream",
     "text": [
      "features sucessfully saved!\n",
      "features sucessfully saved!\n",
      "features sucessfully saved!\n",
      "features sucessfully saved!\n",
      "features sucessfully saved!\n",
      "features sucessfully saved!\n",
      "features sucessfully saved!\n",
      "features sucessfully saved!\n",
      "features sucessfully saved!\n",
      "features sucessfully saved!\n",
      "features sucessfully saved!\n",
      "features sucessfully saved!\n",
      "features sucessfully saved!\n",
      "features sucessfully saved!\n"
     ]
    }
   ],
   "source": [
    "for i in range(1,15):\n",
    "    df = cleanData(i) \n",
    "    createFeature(df,['coauthor','journalTitle'],i)"
   ]
  },
  {
   "cell_type": "markdown",
   "metadata": {},
   "source": [
    "# Combine Features"
   ]
  },
  {
   "cell_type": "code",
   "execution_count": 2,
   "metadata": {
    "collapsed": false
   },
   "outputs": [],
   "source": [
    "def combineFeature(i):\n",
    "    f1 = '../data/feature'+str(i)+'_ziwei.csv'\n",
    "    f2 = '../data/feature'+str(i)+'_shuyi.csv'\n",
    "    f3 = '../data/feature'+str(i)+'_bo.csv'\n",
    "    df1 = pd.read_csv(f1)\n",
    "    df2 = pd.read_csv(f2)\n",
    "    df3 = pd.read_csv(f3)\n",
    "    df = pd.concat([df1[['n_coauthor','onegram_journal','is_same']],df2[['tfidf simlarity','edit distance','edit distance similarity']],df3[['bigram','trigram']]],1)\n",
    "    df['edit distance'] = df['edit distance'].values/(df['edit distance'].max()*1.0)\n",
    "    df['bigram'] = df['bigram'].values/(df['bigram'].max()*1.0)\n",
    "    df['trigram'] = df['trigram'].values/(df['trigram'].max()*1.0)\n",
    "    df.columns = ['coauthor','journal','is_same','tfidf_sml','edit_dist','edit_dist_sml','bigram','trigram']\n",
    "    save_path = '../data/feature'+str(i)+'.csv'\n",
    "    df.to_csv(save_path)\n",
    "    print(\"Successfully combined and saved features!\")"
   ]
  },
  {
   "cell_type": "code",
   "execution_count": 3,
   "metadata": {
    "collapsed": false
   },
   "outputs": [
    {
     "name": "stdout",
     "output_type": "stream",
     "text": [
      "Successfully combined and saved features!\n",
      "Successfully combined and saved features!\n",
      "Successfully combined and saved features!\n",
      "Successfully combined and saved features!\n",
      "Successfully combined and saved features!\n",
      "Successfully combined and saved features!\n",
      "Successfully combined and saved features!\n",
      "Successfully combined and saved features!\n",
      "Successfully combined and saved features!\n",
      "Successfully combined and saved features!\n",
      "Successfully combined and saved features!\n",
      "Successfully combined and saved features!\n",
      "Successfully combined and saved features!\n",
      "Successfully combined and saved features!\n"
     ]
    }
   ],
   "source": [
    "for i in range(1,15):\n",
    "    combineFeature(i)"
   ]
  },
  {
   "cell_type": "code",
   "execution_count": null,
   "metadata": {
    "collapsed": true
   },
   "outputs": [],
   "source": []
  }
 ],
 "metadata": {
  "kernelspec": {
   "display_name": "Python 2",
   "language": "python",
   "name": "python2"
  },
  "language_info": {
   "codemirror_mode": {
    "name": "ipython",
    "version": 2
   },
   "file_extension": ".py",
   "mimetype": "text/x-python",
   "name": "python",
   "nbconvert_exporter": "python",
   "pygments_lexer": "ipython2",
   "version": "2.7.13"
  }
 },
 "nbformat": 4,
 "nbformat_minor": 0
}
