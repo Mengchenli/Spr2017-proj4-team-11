{
 "cells": [
  {
   "cell_type": "markdown",
   "metadata": {
    "collapsed": true
   },
   "source": [
    "# Import libraries"
   ]
  },
  {
   "cell_type": "code",
   "execution_count": 2,
   "metadata": {
    "collapsed": false
   },
   "outputs": [
    {
     "name": "stderr",
     "output_type": "stream",
     "text": [
      "/Users/Zoe/anaconda/lib/python3.4/site-packages/IPython/html.py:14: ShimWarning: The `IPython.html` package has been deprecated. You should import from `notebook` instead. `IPython.html.widgets` has moved to `ipywidgets`.\n",
      "  \"`IPython.html.widgets` has moved to `ipywidgets`.\", ShimWarning)\n"
     ]
    }
   ],
   "source": [
    "import numpy as np\n",
    "import pandas as pd\n",
    "import numba\n",
    "from scipy.misc import comb\n",
    "import matplotlib.pyplot as plt\n",
    "from cvxopt.solvers import qp\n",
    "from cvxopt import matrix\n",
    "import seaborn as sns\n",
    "color = sns.color_palette()\n",
    "%matplotlib inline"
   ]
  },
  {
   "cell_type": "code",
   "execution_count": 3,
   "metadata": {
    "collapsed": false
   },
   "outputs": [],
   "source": [
    "#@numba.jit\n",
    "def predMerge(t, M):\n",
    "    '''\n",
    "    input: t is a 1d-array of partition labels, shape is (n_record,)\n",
    "           M is the similarity matrix of shape (n_cluster, n_cluster)\n",
    "    output: new_t is the new partition which maximize the weighted average similarity between each pair of clusters\n",
    "            new_M is the updated similarity matrix of shape (n_cluster - 1, n_cluster -1)\n",
    "    '''\n",
    "    i,j = divmod(M.argmax(), M.shape[1])\n",
    "    \n",
    "    new_M = np.copy(M)\n",
    "    new_t = np.copy(t)\n",
    "    \n",
    "    uni_t = np.unique(new_t)\n",
    "    new_t[t==uni_t[j]] = uni_t[i]\n",
    "    \n",
    "    new_M[i,(i+1):] = (new_M[(i+1):,j].transpose() + new_M[i,(i+1):])/2.0\n",
    "    new_M[:i,i] = (new_M[:i,j] + new_M[:i,i])/2.0\n",
    "    \n",
    "    new_M = np.delete(new_M,j,0)\n",
    "    new_M = np.delete(new_M,j,1)\n",
    "    \n",
    "    return (new_t,new_M,(i,j))"
   ]
  },
  {
   "cell_type": "code",
   "execution_count": 4,
   "metadata": {
    "collapsed": true
   },
   "outputs": [],
   "source": [
    "#@numba.jit\n",
    "def label2mat(t):\n",
    "    '''\n",
    "    input: t is a 1d-array of partition labels, shape is (n_records,), e.g. array([1,1,2,3])\n",
    "    output: m is a 2d-array adjacency matrix of shape (n_records,n_records)\n",
    "    '''\n",
    "    n = t.shape[0]\n",
    "    m = np.eye(n)\n",
    "    for i in range((n-1)):\n",
    "        for j in range((i+1),n):\n",
    "            if (t[j]==t[i]):\n",
    "                m[i,j] = 1\n",
    "    m += (m.transpose() - np.eye(n))\n",
    "    return(m)"
   ]
  },
  {
   "cell_type": "code",
   "execution_count": 5,
   "metadata": {
    "collapsed": false
   },
   "outputs": [],
   "source": [
    "#@numba.jit\n",
    "def trueScore(t,y_D,metric='F1'):\n",
    "    '''\n",
    "    input:\n",
    "    output:\n",
    "    '''\n",
    "    metrics = {'F1':0 ,'precision':1, 'recall':2, 'accuracy':3}\n",
    "    if (metric not in metrics):\n",
    "        print('Invalid metric type! metric must be one of F1, precision, recall, accuracy')\n",
    "    else:\n",
    "        M = label2mat(t)\n",
    "        n = M.shape[0]\n",
    "        if metrics[metric]==0:\n",
    "            p = np.sum(M*y_D)/(np.sum(M)*1.0) \n",
    "            r = np.sum(M*y_D)/(np.sum(y_D)*1.0)\n",
    "            s = 2*p*r/(p + r)\n",
    "        elif metrics[metric]==1:\n",
    "            s = np.sum(M*y_D)/(np.sum(M)*1.0) \n",
    "        elif metrics[metric]==2:\n",
    "            s = np.sum(M*y_D)/(np.sum(y_D)*1.0)\n",
    "        else:\n",
    "            s = 1-np.sum((M-y_D)**2)/(1.0*n**2)\n",
    "    \n",
    "    return s"
   ]
  },
  {
   "cell_type": "code",
   "execution_count": 6,
   "metadata": {
    "collapsed": true
   },
   "outputs": [],
   "source": [
    "def predTree(t0,X,w,R):\n",
    "    '''\n",
    "    input: t0 is the initial partition of shape (n_record,)\n",
    "           X is the 2-d array of record features, n_record*n_feature\n",
    "           w is the weight of shape (n_feature,)\n",
    "           R is the number of partitions in a sequence\n",
    "    output: T is a sequence of  partitions\n",
    "    '''\n",
    "    n = int(np.sqrt(X.shape[0]))\n",
    "    M0 = X.dot(w).reshape((n,n))\n",
    "    M0 = np.triu(M0, k=1)\n",
    "    #print(M0.shape)\n",
    "    \n",
    "    T = [t0]\n",
    "\n",
    "    for r in range(R):\n",
    "        t,M1,pred_ind = predMerge(T[r],M0)\n",
    "        #print(pred_ind)\n",
    "        T.append(t)\n",
    "        M0 = np.copy(M1)\n",
    "\n",
    "    return T"
   ]
  },
  {
   "cell_type": "code",
   "execution_count": 7,
   "metadata": {
    "collapsed": true
   },
   "outputs": [],
   "source": [
    "def trueMerge(pred_ind,yD,t):\n",
    "    '''\n",
    "    input: t is a 1d-array of partition labels, shape is (n_record,)\n",
    "           yD is the true score(monotonic function of accuracy) matrix of shape (n_cluster, n_cluster)\n",
    "    output: new_t is the new partition which maximize the weighted average similarity between each pair of clusters\n",
    "            new_yD is the updated true score matrix of shape (n_cluster - 1, n_cluster -1)\n",
    "    '''\n",
    "    i,j = pred_ind\n",
    "    if yD[i,j]==yD.max():\n",
    "        is_error = False\n",
    "        new_yD = np.copy(yD)\n",
    "        \n",
    "        new_yD[i,(i+1):] = (new_yD[(i+1):,j].transpose() + new_yD[i,(i+1):])/2.0\n",
    "        new_yD[:i,i] = (new_yD[:i,j] + new_yD[:i,i])/2.0\n",
    "    \n",
    "        new_yD = np.delete(new_yD,j,0)\n",
    "        new_yD = np.delete(new_yD,j,1)\n",
    "        \n",
    "        new_t = np.copy(t)\n",
    "        \n",
    "    else:\n",
    "        is_error = True\n",
    "        i,j = divmod(yD.argmax(), yD.shape[1])\n",
    "        new_yD = np.copy(yD)\n",
    "        new_t = np.copy(t)\n",
    "        uni_t = np.unique(new_t)\n",
    "        new_t[t==uni_t[j]] = uni_t[i]\n",
    "    \n",
    "    return (is_error,new_yD,new_t,(i,j))"
   ]
  },
  {
   "cell_type": "code",
   "execution_count": 8,
   "metadata": {
    "collapsed": true
   },
   "outputs": [],
   "source": [
    "def updateW(w,true_ind,new_ind,X,th=0.00001,tau=0.05,n_run=10000):\n",
    "    '''\n",
    "    input:\n",
    "    output:\n",
    "    '''\n",
    "    n = X.shape[0]\n",
    "    k = w.shape[0]\n",
    "    c = int(np.sqrt(n))\n",
    "    \n",
    "    new_ind = (new_ind[0]-1)*c + new_ind[1]\n",
    "    true_ind = (true_ind[0]-1)*c + true_ind[1]\n",
    "    \n",
    "    gw_0 = X[true_ind].reshape(w.shape)\n",
    "    gw = X[new_ind].reshape(w.shape)\n",
    "    \n",
    "    print(gw_0.transpose().dot(w))\n",
    "    print(gw.transpose().dot(w))\n",
    "    \n",
    "    h = np.array([-th,tau]).reshape((2,1))\n",
    "    G = np.concatenate(((gw - gw_0), gw), axis=1).transpose()\n",
    "    P = np.eye(k)\n",
    "    q = -np.copy(w)\n",
    "    \n",
    "    P = matrix(P)\n",
    "    G = matrix(G)\n",
    "    q = matrix(q)\n",
    "    h = matrix(h)\n",
    "    \n",
    "    result = qp(P,q,G,h)\n",
    "    new_w = np.array(result['x'])\n",
    "    \n",
    "    return new_w  "
   ]
  },
  {
   "cell_type": "code",
   "execution_count": 9,
   "metadata": {
    "collapsed": true
   },
   "outputs": [],
   "source": [
    "def updateX(pred_ind,X):\n",
    "    '''\n",
    "    input:\n",
    "    output:\n",
    "    '''\n",
    "    #f_ind = lambda x: x[0]*x[2] + x[1]\n",
    "    \n",
    "    c = int(np.sqrt(X.shape[0]))\n",
    "    k = X.shape[1]\n",
    "    \n",
    "    X = X.reshape((c,c,k))\n",
    "    \n",
    "    i,j = pred_ind\n",
    "    \n",
    "    new_X = np.copy(X)\n",
    "    \n",
    "    new_X[i,:,:] = (new_X[i,:,:] + new_X[j,:,:])/2.0\n",
    "    new_X[:,i,:] = (new_X[:,j,:] + new_X[:,i,:])/2.0\n",
    "    \n",
    "    new_X = np.delete(new_X,j,0)\n",
    "    new_X = np.delete(new_X,j,1)\n",
    "    \n",
    "    new_X = new_X.reshape(((c-1)*(c-1),k))\n",
    "        \n",
    "    #print('new_X shape is:',new_X.shape)\n",
    "    return new_X"
   ]
  },
  {
   "cell_type": "code",
   "execution_count": 10,
   "metadata": {
    "collapsed": false
   },
   "outputs": [],
   "source": [
    "def train_errorDriven(X,y,w0,th=0.0001,tau=0.04,n_run=200,R=577):\n",
    "    '''\n",
    "    input: my_df the cleaned-up dataframe\n",
    "           features is a list of features to be caculated\n",
    "           n_run is the number of iterations\n",
    "           R is the deepth of partition tree\n",
    "           th is the converge threshold\n",
    "    output: w0 is the best weight for similarity\n",
    "    '''\n",
    "    n = int(np.sqrt(X.shape[0]))\n",
    "    \n",
    "    yD0 = y.reshape((n,n))\n",
    "    yD0 = np.triu(yD0, k=1)\n",
    "    \n",
    "    X0 = np.copy(X)\n",
    "    \n",
    "    t0 = np.array([i for i in range(y_D.shape[0])])\n",
    "    w0 = w0.reshape((X.shape[1],1))\n",
    "    \n",
    "    for i in range(n_run):\n",
    "        print(str(i),' iteration')\n",
    "        w = np.copy(w0)\n",
    "        print(w)\n",
    "        X = np.copy(X0)\n",
    "        M = X.dot(w).reshape(n,n)\n",
    "        M = np.triu(M,k=1)\n",
    "        t = np.copy(t0)\n",
    "        yD = np.copy(yD0)\n",
    "        for r in range(R):\n",
    "            new_t,new_M,pred_ind = predMerge(t,M)\n",
    "            print(str(r),' level')\n",
    "            print('\\n')\n",
    "            is_error,new_yD,true_t,true_ind = trueMerge(pred_ind,yD,new_t)\n",
    "            print(pred_ind)\n",
    "            print(true_ind)\n",
    "            \n",
    "            if is_error:\n",
    "                w0 = updateW(w,true_ind,pred_ind,X,th=th,tau=tau)\n",
    "                break\n",
    "            print('X shape is',X.shape)\n",
    "            X = updateX(pred_ind,X)   \n",
    "            M = np.copy(new_M)\n",
    "            t = np.copy(new_t)\n",
    "            yD = np.copy(new_yD)\n",
    "\n",
    "    return w0.reshape((X.shape[1],))"
   ]
  },
  {
   "cell_type": "markdown",
   "metadata": {},
   "source": [
    "# Read training data"
   ]
  },
  {
   "cell_type": "code",
   "execution_count": 11,
   "metadata": {
    "collapsed": true
   },
   "outputs": [],
   "source": [
    "i = 1"
   ]
  },
  {
   "cell_type": "code",
   "execution_count": 12,
   "metadata": {
    "collapsed": false,
    "scrolled": true
   },
   "outputs": [],
   "source": [
    "fpath = '../data/feature'+str(i)+'.csv'\n",
    "\n",
    "train_df = pd.DataFrame.from_csv(fpath)"
   ]
  },
  {
   "cell_type": "markdown",
   "metadata": {},
   "source": [
    "## explore correlation"
   ]
  },
  {
   "cell_type": "code",
   "execution_count": 13,
   "metadata": {
    "collapsed": false
   },
   "outputs": [
    {
     "data": {
      "text/html": [
       "<div>\n",
       "<table border=\"1\" class=\"dataframe\">\n",
       "  <thead>\n",
       "    <tr style=\"text-align: right;\">\n",
       "      <th></th>\n",
       "      <th>coauthor</th>\n",
       "      <th>journal</th>\n",
       "      <th>tfidf_sml</th>\n",
       "      <th>edit_dist</th>\n",
       "      <th>edit_dist_sml</th>\n",
       "      <th>bigram</th>\n",
       "      <th>trigram</th>\n",
       "    </tr>\n",
       "    <tr>\n",
       "      <th>is_same</th>\n",
       "      <th></th>\n",
       "      <th></th>\n",
       "      <th></th>\n",
       "      <th></th>\n",
       "      <th></th>\n",
       "      <th></th>\n",
       "      <th></th>\n",
       "    </tr>\n",
       "  </thead>\n",
       "  <tbody>\n",
       "    <tr>\n",
       "      <th>0</th>\n",
       "      <td>0.001182</td>\n",
       "      <td>0.069144</td>\n",
       "      <td>0.019433</td>\n",
       "      <td>0.302339</td>\n",
       "      <td>0.211198</td>\n",
       "      <td>0.000049</td>\n",
       "      <td>0.000007</td>\n",
       "    </tr>\n",
       "    <tr>\n",
       "      <th>1</th>\n",
       "      <td>0.170841</td>\n",
       "      <td>0.169042</td>\n",
       "      <td>0.086875</td>\n",
       "      <td>0.286961</td>\n",
       "      <td>0.247866</td>\n",
       "      <td>0.005399</td>\n",
       "      <td>0.003545</td>\n",
       "    </tr>\n",
       "  </tbody>\n",
       "</table>\n",
       "</div>"
      ],
      "text/plain": [
       "         coauthor   journal  tfidf_sml  edit_dist  edit_dist_sml    bigram  \\\n",
       "is_same                                                                      \n",
       "0        0.001182  0.069144   0.019433   0.302339       0.211198  0.000049   \n",
       "1        0.170841  0.169042   0.086875   0.286961       0.247866  0.005399   \n",
       "\n",
       "          trigram  \n",
       "is_same            \n",
       "0        0.000007  \n",
       "1        0.003545  "
      ]
     },
     "execution_count": 13,
     "metadata": {},
     "output_type": "execute_result"
    }
   ],
   "source": [
    "odds = train_df.groupby('is_same').mean()\n",
    "odds"
   ]
  },
  {
   "cell_type": "code",
   "execution_count": 14,
   "metadata": {
    "collapsed": false
   },
   "outputs": [
    {
     "data": {
      "text/plain": [
       "array([ 144.52571785,    2.44478455,    4.47051718,    0.94913426,\n",
       "          1.17361952,  110.79578847,  513.40108951])"
      ]
     },
     "execution_count": 14,
     "metadata": {},
     "output_type": "execute_result"
    }
   ],
   "source": [
    "OddsRatio = odds.iloc[1].values/odds.iloc[0].values\n",
    "OddsRatio"
   ]
  },
  {
   "cell_type": "markdown",
   "metadata": {},
   "source": [
    "## Initialize parameters"
   ]
  },
  {
   "cell_type": "code",
   "execution_count": 15,
   "metadata": {
    "collapsed": false
   },
   "outputs": [],
   "source": [
    "n = int(np.sqrt(train_df.shape[0]))\n",
    "X = train_df.ix[:,['coauthor','journal','tfidf_sml','edit_dist','edit_dist_sml','bigram','trigram']].values\n",
    "#X = train_df.ix[:,['coauthor']].values\n",
    "y = train_df['is_same'].values\n",
    "y_D = y.reshape((n,n))\n",
    "y_D = np.triu(y_D, k=1)\n",
    "t0 = np.array([i for i in range(n)])\n",
    "w0 = np.copy(OddsRatio)\n",
    "#w0 = np.copy(OddsRatio[0])\n",
    "M0 = X.dot(w0).reshape((n,n))\n",
    "M0 = np.triu(M0, k=1)"
   ]
  },
  {
   "cell_type": "code",
   "execution_count": 16,
   "metadata": {
    "collapsed": false,
    "scrolled": true
   },
   "outputs": [
    {
     "name": "stdout",
     "output_type": "stream",
     "text": [
      "0  iteration\n",
      "[[ 144.52571785]\n",
      " [   2.44478455]\n",
      " [   4.47051718]\n",
      " [   0.94913426]\n",
      " [   1.17361952]\n",
      " [ 110.79578847]\n",
      " [ 513.40108951]]\n",
      "0  level\n",
      "\n",
      "\n",
      "(115, 548)\n",
      "(0, 1)\n",
      "[[ 0.54597354]]\n",
      "[[ 305.77763049]]\n",
      "     pcost       dcost       gap    pres   dres\n",
      " 0: -1.3855e+05 -1.3585e+05  2e+02  6e+01  2e-16\n",
      " 1: -1.3555e+05 -1.3560e+05  5e+01  3e-14  6e-16\n",
      " 2: -1.3559e+05 -1.3559e+05  3e+00  4e-14  1e-16\n",
      " 3: -1.3559e+05 -1.3559e+05  9e-02  5e-14  7e-16\n",
      "Optimal solution found.\n",
      "1  iteration\n",
      "[[  60.7247873 ]\n",
      " [ -81.35614601]\n",
      " [ -75.43053505]\n",
      " [  23.99366303]\n",
      " [ -59.77456482]\n",
      " [  88.44887366]\n",
      " [ 493.17327869]]\n",
      "0  level\n",
      "\n",
      "\n",
      "(268, 298)\n",
      "(268, 298)\n",
      "X shape is (332929, 7)\n",
      "1  level\n",
      "\n",
      "\n",
      "(139, 166)\n",
      "(139, 166)\n",
      "X shape is (331776, 7)\n",
      "2  level\n",
      "\n",
      "\n",
      "(70, 104)\n",
      "(70, 104)\n",
      "X shape is (330625, 7)\n",
      "3  level\n",
      "\n",
      "\n",
      "(402, 411)\n",
      "(402, 411)\n",
      "X shape is (329476, 7)\n",
      "4  level\n",
      "\n",
      "\n",
      "(76, 104)\n",
      "(76, 104)\n",
      "X shape is (328329, 7)\n",
      "5  level\n",
      "\n",
      "\n",
      "(191, 195)\n",
      "(191, 195)\n",
      "X shape is (327184, 7)\n",
      "6  level\n",
      "\n",
      "\n",
      "(384, 429)\n",
      "(384, 429)\n",
      "X shape is (326041, 7)\n",
      "7  level\n",
      "\n",
      "\n",
      "(258, 279)\n",
      "(258, 279)\n",
      "X shape is (324900, 7)\n",
      "8  level\n",
      "\n",
      "\n",
      "(294, 298)\n",
      "(294, 298)\n",
      "X shape is (323761, 7)\n",
      "9  level\n",
      "\n",
      "\n",
      "(82, 106)\n",
      "(82, 106)\n",
      "X shape is (322624, 7)\n",
      "10  level\n",
      "\n",
      "\n",
      "(389, 414)\n",
      "(389, 414)\n",
      "X shape is (321489, 7)\n",
      "11  level\n",
      "\n",
      "\n",
      "(85, 95)\n",
      "(85, 95)\n",
      "X shape is (320356, 7)\n",
      "12  level\n",
      "\n",
      "\n",
      "(75, 106)\n",
      "(75, 106)\n",
      "X shape is (319225, 7)\n",
      "13  level\n",
      "\n",
      "\n",
      "(269, 318)\n",
      "(269, 318)\n",
      "X shape is (318096, 7)\n",
      "14  level\n",
      "\n",
      "\n",
      "(70, 101)\n",
      "(70, 101)\n",
      "X shape is (316969, 7)\n",
      "15  level\n",
      "\n",
      "\n",
      "(81, 103)\n",
      "(81, 103)\n",
      "X shape is (315844, 7)\n",
      "16  level\n",
      "\n",
      "\n",
      "(189, 373)\n",
      "(0, 1)\n",
      "[[ 0.04147337]]\n",
      "[[-20.3605668]]\n",
      "     pcost       dcost       gap    pres   dres\n",
      " 0: -1.3555e+05 -1.3562e+05  8e+01  3e-15  2e-02\n",
      " 1: -1.3559e+05 -1.3560e+05  4e+00  2e-15  1e-04\n",
      " 2: -1.3559e+05 -1.3559e+05  4e-02  7e-15  1e-06\n",
      " 3: -1.3559e+05 -1.3559e+05  4e-04  1e-14  1e-08\n",
      "Optimal solution found.\n",
      "2  iteration\n",
      "[[  60.7247873 ]\n",
      " [ -81.35614452]\n",
      " [ -75.43053505]\n",
      " [  23.99366101]\n",
      " [ -59.77456512]\n",
      " [  88.44887366]\n",
      " [ 493.17327869]]\n",
      "0  level\n",
      "\n",
      "\n",
      "(268, 298)\n",
      "(268, 298)\n",
      "X shape is (332929, 7)\n",
      "1  level\n",
      "\n",
      "\n",
      "(139, 166)\n",
      "(139, 166)\n",
      "X shape is (331776, 7)\n",
      "2  level\n",
      "\n",
      "\n",
      "(70, 104)\n",
      "(70, 104)\n",
      "X shape is (330625, 7)\n",
      "3  level\n",
      "\n",
      "\n",
      "(402, 411)\n",
      "(402, 411)\n",
      "X shape is (329476, 7)\n",
      "4  level\n",
      "\n",
      "\n",
      "(76, 104)\n",
      "(76, 104)\n",
      "X shape is (328329, 7)\n",
      "5  level\n",
      "\n",
      "\n",
      "(191, 195)\n",
      "(191, 195)\n",
      "X shape is (327184, 7)\n",
      "6  level\n",
      "\n",
      "\n",
      "(384, 429)\n",
      "(384, 429)\n",
      "X shape is (326041, 7)\n",
      "7  level\n",
      "\n",
      "\n",
      "(258, 279)\n",
      "(258, 279)\n",
      "X shape is (324900, 7)\n",
      "8  level\n",
      "\n",
      "\n",
      "(294, 298)\n",
      "(294, 298)\n",
      "X shape is (323761, 7)\n",
      "9  level\n",
      "\n",
      "\n",
      "(82, 106)\n",
      "(82, 106)\n",
      "X shape is (322624, 7)\n",
      "10  level\n",
      "\n",
      "\n",
      "(389, 414)\n",
      "(389, 414)\n",
      "X shape is (321489, 7)\n",
      "11  level\n",
      "\n",
      "\n",
      "(85, 95)\n",
      "(85, 95)\n",
      "X shape is (320356, 7)\n",
      "12  level\n",
      "\n",
      "\n",
      "(75, 106)\n",
      "(75, 106)\n",
      "X shape is (319225, 7)\n",
      "13  level\n",
      "\n",
      "\n",
      "(269, 318)\n",
      "(269, 318)\n",
      "X shape is (318096, 7)\n",
      "14  level\n",
      "\n",
      "\n",
      "(70, 101)\n",
      "(70, 101)\n",
      "X shape is (316969, 7)\n",
      "15  level\n",
      "\n",
      "\n",
      "(81, 103)\n",
      "(81, 103)\n",
      "X shape is (315844, 7)\n",
      "16  level\n",
      "\n",
      "\n",
      "(189, 373)\n",
      "(0, 1)\n",
      "[[ 0.04147255]]\n",
      "[[-20.36056726]]\n",
      "     pcost       dcost       gap    pres   dres\n",
      " 0: -1.3555e+05 -1.3562e+05  8e+01  3e-15  2e-02\n",
      " 1: -1.3559e+05 -1.3560e+05  4e+00  2e-15  1e-04\n",
      " 2: -1.3559e+05 -1.3559e+05  4e-02  5e-15  1e-06\n",
      " 3: -1.3559e+05 -1.3559e+05  4e-04  5e-15  1e-08\n",
      "Optimal solution found.\n",
      "3  iteration\n",
      "[[  60.7247873 ]\n",
      " [ -81.35614303]\n",
      " [ -75.43053505]\n",
      " [  23.993659  ]\n",
      " [ -59.77456541]\n",
      " [  88.44887366]\n",
      " [ 493.17327869]]\n",
      "0  level\n",
      "\n",
      "\n",
      "(268, 298)\n",
      "(268, 298)\n",
      "X shape is (332929, 7)\n",
      "1  level\n",
      "\n",
      "\n",
      "(139, 166)\n",
      "(139, 166)\n",
      "X shape is (331776, 7)\n",
      "2  level\n",
      "\n",
      "\n",
      "(70, 104)\n",
      "(70, 104)\n",
      "X shape is (330625, 7)\n",
      "3  level\n",
      "\n",
      "\n",
      "(402, 411)\n",
      "(402, 411)\n",
      "X shape is (329476, 7)\n",
      "4  level\n",
      "\n",
      "\n",
      "(76, 104)\n",
      "(76, 104)\n",
      "X shape is (328329, 7)\n",
      "5  level\n",
      "\n",
      "\n",
      "(191, 195)\n",
      "(191, 195)\n",
      "X shape is (327184, 7)\n",
      "6  level\n",
      "\n",
      "\n",
      "(384, 429)\n",
      "(384, 429)\n",
      "X shape is (326041, 7)\n",
      "7  level\n",
      "\n",
      "\n",
      "(258, 279)\n",
      "(258, 279)\n",
      "X shape is (324900, 7)\n",
      "8  level\n",
      "\n",
      "\n",
      "(294, 298)\n",
      "(294, 298)\n",
      "X shape is (323761, 7)\n",
      "9  level\n",
      "\n",
      "\n",
      "(82, 106)\n",
      "(82, 106)\n",
      "X shape is (322624, 7)\n",
      "10  level\n",
      "\n",
      "\n",
      "(389, 414)\n",
      "(389, 414)\n",
      "X shape is (321489, 7)\n",
      "11  level\n",
      "\n",
      "\n",
      "(85, 95)\n",
      "(85, 95)\n",
      "X shape is (320356, 7)\n",
      "12  level\n",
      "\n",
      "\n",
      "(75, 106)\n",
      "(75, 106)\n",
      "X shape is (319225, 7)\n",
      "13  level\n",
      "\n",
      "\n",
      "(269, 318)\n",
      "(269, 318)\n",
      "X shape is (318096, 7)\n",
      "14  level\n",
      "\n",
      "\n",
      "(70, 101)\n",
      "(70, 101)\n",
      "X shape is (316969, 7)\n",
      "15  level\n",
      "\n",
      "\n",
      "(81, 103)\n",
      "(81, 103)\n",
      "X shape is (315844, 7)\n",
      "16  level\n",
      "\n",
      "\n",
      "(189, 373)\n",
      "(0, 1)\n",
      "[[ 0.04147173]]\n",
      "[[-20.36056771]]\n",
      "     pcost       dcost       gap    pres   dres\n",
      " 0: -1.3555e+05 -1.3562e+05  8e+01  3e-15  2e-02\n",
      " 1: -1.3559e+05 -1.3560e+05  4e+00  6e-15  1e-04\n",
      " 2: -1.3559e+05 -1.3559e+05  4e-02  3e-15  1e-06\n",
      " 3: -1.3559e+05 -1.3559e+05  4e-04  5e-16  1e-08\n",
      "Optimal solution found.\n",
      "4  iteration\n",
      "[[  60.7247873 ]\n",
      " [ -81.35614154]\n",
      " [ -75.43053505]\n",
      " [  23.99365699]\n",
      " [ -59.7745657 ]\n",
      " [  88.44887366]\n",
      " [ 493.17327869]]\n",
      "0  level\n",
      "\n",
      "\n",
      "(268, 298)\n",
      "(268, 298)\n",
      "X shape is (332929, 7)\n",
      "1  level\n",
      "\n",
      "\n",
      "(139, 166)\n",
      "(139, 166)\n",
      "X shape is (331776, 7)\n",
      "2  level\n",
      "\n",
      "\n",
      "(70, 104)\n",
      "(70, 104)\n",
      "X shape is (330625, 7)\n",
      "3  level\n",
      "\n",
      "\n",
      "(402, 411)\n",
      "(402, 411)\n",
      "X shape is (329476, 7)\n",
      "4  level\n",
      "\n",
      "\n",
      "(76, 104)\n",
      "(76, 104)\n",
      "X shape is (328329, 7)\n",
      "5  level\n",
      "\n",
      "\n",
      "(191, 195)\n",
      "(191, 195)\n",
      "X shape is (327184, 7)\n",
      "6  level\n",
      "\n",
      "\n",
      "(384, 429)\n",
      "(384, 429)\n",
      "X shape is (326041, 7)\n",
      "7  level\n",
      "\n",
      "\n",
      "(258, 279)\n",
      "(258, 279)\n",
      "X shape is (324900, 7)\n",
      "8  level\n",
      "\n",
      "\n",
      "(294, 298)\n",
      "(294, 298)\n",
      "X shape is (323761, 7)\n",
      "9  level\n",
      "\n",
      "\n",
      "(82, 106)\n",
      "(82, 106)\n",
      "X shape is (322624, 7)\n",
      "10  level\n",
      "\n",
      "\n",
      "(389, 414)\n",
      "(389, 414)\n",
      "X shape is (321489, 7)\n",
      "11  level\n",
      "\n",
      "\n",
      "(85, 95)\n",
      "(85, 95)\n",
      "X shape is (320356, 7)\n",
      "12  level\n",
      "\n",
      "\n",
      "(75, 106)\n",
      "(75, 106)\n",
      "X shape is (319225, 7)\n",
      "13  level\n",
      "\n",
      "\n",
      "(269, 318)\n",
      "(269, 318)\n",
      "X shape is (318096, 7)\n",
      "14  level\n",
      "\n",
      "\n",
      "(70, 101)\n",
      "(70, 101)\n",
      "X shape is (316969, 7)\n",
      "15  level\n",
      "\n",
      "\n",
      "(81, 103)\n",
      "(81, 103)\n",
      "X shape is (315844, 7)\n",
      "16  level\n",
      "\n",
      "\n",
      "(189, 373)\n",
      "(0, 1)\n",
      "[[ 0.04147091]]\n",
      "[[-20.36056817]]\n",
      "     pcost       dcost       gap    pres   dres\n",
      " 0: -1.3555e+05 -1.3562e+05  8e+01  2e-15  2e-02\n",
      " 1: -1.3559e+05 -1.3560e+05  4e+00  8e-15  1e-04\n",
      " 2: -1.3559e+05 -1.3559e+05  4e-02  2e-15  1e-06\n",
      " 3: -1.3559e+05 -1.3559e+05  4e-04  2e-15  1e-08\n",
      "Optimal solution found.\n",
      "5  iteration\n",
      "[[  60.7247873 ]\n",
      " [ -81.35614004]\n",
      " [ -75.43053505]\n",
      " [  23.99365497]\n",
      " [ -59.77456599]\n",
      " [  88.44887366]\n",
      " [ 493.17327869]]\n",
      "0  level\n",
      "\n",
      "\n",
      "(268, 298)\n",
      "(268, 298)\n",
      "X shape is (332929, 7)\n",
      "1  level\n",
      "\n",
      "\n",
      "(139, 166)\n",
      "(139, 166)\n",
      "X shape is (331776, 7)\n",
      "2  level\n",
      "\n",
      "\n",
      "(70, 104)\n",
      "(70, 104)\n",
      "X shape is (330625, 7)\n",
      "3  level\n",
      "\n",
      "\n",
      "(402, 411)\n",
      "(402, 411)\n",
      "X shape is (329476, 7)\n",
      "4  level\n",
      "\n",
      "\n",
      "(76, 104)\n",
      "(76, 104)\n",
      "X shape is (328329, 7)\n",
      "5  level\n",
      "\n",
      "\n",
      "(191, 195)\n",
      "(191, 195)\n",
      "X shape is (327184, 7)\n",
      "6  level\n",
      "\n",
      "\n",
      "(384, 429)\n",
      "(384, 429)\n",
      "X shape is (326041, 7)\n",
      "7  level\n",
      "\n",
      "\n",
      "(258, 279)\n",
      "(258, 279)\n",
      "X shape is (324900, 7)\n",
      "8  level\n",
      "\n",
      "\n",
      "(294, 298)\n",
      "(294, 298)\n",
      "X shape is (323761, 7)\n",
      "9  level\n",
      "\n",
      "\n",
      "(82, 106)\n",
      "(82, 106)\n",
      "X shape is (322624, 7)\n",
      "10  level\n",
      "\n",
      "\n",
      "(389, 414)\n",
      "(389, 414)\n",
      "X shape is (321489, 7)\n",
      "11  level\n",
      "\n",
      "\n",
      "(85, 95)\n",
      "(85, 95)\n",
      "X shape is (320356, 7)\n",
      "12  level\n",
      "\n",
      "\n",
      "(75, 106)\n",
      "(75, 106)\n",
      "X shape is (319225, 7)\n",
      "13  level\n",
      "\n",
      "\n",
      "(269, 318)\n",
      "(269, 318)\n",
      "X shape is (318096, 7)\n",
      "14  level\n",
      "\n",
      "\n",
      "(70, 101)\n",
      "(70, 101)\n",
      "X shape is (316969, 7)\n",
      "15  level\n",
      "\n",
      "\n",
      "(81, 103)\n",
      "(81, 103)\n",
      "X shape is (315844, 7)\n",
      "16  level\n",
      "\n",
      "\n",
      "(189, 373)\n",
      "(0, 1)\n",
      "[[ 0.04147009]]\n",
      "[[-20.36056863]]\n",
      "     pcost       dcost       gap    pres   dres\n",
      " 0: -1.3555e+05 -1.3562e+05  8e+01  6e-16  2e-02\n",
      " 1: -1.3559e+05 -1.3560e+05  4e+00  1e-15  1e-04\n",
      " 2: -1.3559e+05 -1.3559e+05  4e-02  5e-15  1e-06\n",
      " 3: -1.3559e+05 -1.3559e+05  4e-04  2e-15  1e-08\n",
      "Optimal solution found.\n",
      "6  iteration\n",
      "[[  60.7247873 ]\n",
      " [ -81.35613855]\n",
      " [ -75.43053505]\n",
      " [  23.99365296]\n",
      " [ -59.77456628]\n",
      " [  88.44887366]\n",
      " [ 493.17327869]]\n",
      "0  level\n",
      "\n",
      "\n",
      "(268, 298)\n",
      "(268, 298)\n",
      "X shape is (332929, 7)\n",
      "1  level\n",
      "\n",
      "\n",
      "(139, 166)\n",
      "(139, 166)\n",
      "X shape is (331776, 7)\n",
      "2  level\n",
      "\n",
      "\n",
      "(70, 104)\n",
      "(70, 104)\n",
      "X shape is (330625, 7)\n",
      "3  level\n",
      "\n",
      "\n",
      "(402, 411)\n",
      "(402, 411)\n",
      "X shape is (329476, 7)\n",
      "4  level\n",
      "\n",
      "\n",
      "(76, 104)\n",
      "(76, 104)\n",
      "X shape is (328329, 7)\n",
      "5  level\n",
      "\n",
      "\n",
      "(191, 195)\n",
      "(191, 195)\n",
      "X shape is (327184, 7)\n",
      "6  level\n",
      "\n",
      "\n",
      "(384, 429)\n",
      "(384, 429)\n",
      "X shape is (326041, 7)\n",
      "7  level\n",
      "\n",
      "\n",
      "(258, 279)\n",
      "(258, 279)\n",
      "X shape is (324900, 7)\n",
      "8  level\n",
      "\n",
      "\n",
      "(294, 298)\n",
      "(294, 298)\n",
      "X shape is (323761, 7)\n",
      "9  level\n",
      "\n",
      "\n",
      "(82, 106)\n",
      "(82, 106)\n",
      "X shape is (322624, 7)\n",
      "10  level\n",
      "\n",
      "\n",
      "(389, 414)\n",
      "(389, 414)\n",
      "X shape is (321489, 7)\n",
      "11  level\n",
      "\n",
      "\n",
      "(85, 95)\n",
      "(85, 95)\n",
      "X shape is (320356, 7)\n",
      "12  level\n",
      "\n",
      "\n",
      "(75, 106)\n",
      "(75, 106)\n",
      "X shape is (319225, 7)\n",
      "13  level\n",
      "\n",
      "\n",
      "(269, 318)\n",
      "(269, 318)\n",
      "X shape is (318096, 7)\n",
      "14  level\n",
      "\n",
      "\n",
      "(70, 101)\n",
      "(70, 101)\n",
      "X shape is (316969, 7)\n",
      "15  level\n",
      "\n",
      "\n",
      "(81, 103)\n",
      "(81, 103)\n",
      "X shape is (315844, 7)\n",
      "16  level\n",
      "\n",
      "\n",
      "(189, 373)\n",
      "(0, 1)\n",
      "[[ 0.04146927]]\n",
      "[[-20.36056908]]\n",
      "     pcost       dcost       gap    pres   dres\n",
      " 0: -1.3555e+05 -1.3562e+05  8e+01  9e-16  2e-02\n",
      " 1: -1.3559e+05 -1.3560e+05  4e+00  8e-15  1e-04\n",
      " 2: -1.3559e+05 -1.3559e+05  4e-02  4e-15  1e-06\n",
      " 3: -1.3559e+05 -1.3559e+05  4e-04  8e-15  1e-08\n",
      "Optimal solution found.\n",
      "7  iteration\n",
      "[[  60.7247873 ]\n",
      " [ -81.35613706]\n",
      " [ -75.43053505]\n",
      " [  23.99365095]\n",
      " [ -59.77456657]\n",
      " [  88.44887366]\n",
      " [ 493.17327869]]\n",
      "0  level\n",
      "\n",
      "\n",
      "(268, 298)\n",
      "(268, 298)\n",
      "X shape is (332929, 7)\n",
      "1  level\n",
      "\n",
      "\n",
      "(139, 166)\n",
      "(139, 166)\n",
      "X shape is (331776, 7)\n",
      "2  level\n",
      "\n",
      "\n",
      "(70, 104)\n",
      "(70, 104)\n",
      "X shape is (330625, 7)\n",
      "3  level\n",
      "\n",
      "\n",
      "(402, 411)\n",
      "(402, 411)\n",
      "X shape is (329476, 7)\n",
      "4  level\n",
      "\n",
      "\n",
      "(76, 104)\n",
      "(76, 104)\n",
      "X shape is (328329, 7)\n",
      "5  level\n",
      "\n",
      "\n",
      "(191, 195)\n",
      "(191, 195)\n",
      "X shape is (327184, 7)\n",
      "6  level\n",
      "\n",
      "\n",
      "(384, 429)\n",
      "(384, 429)\n",
      "X shape is (326041, 7)\n",
      "7  level\n",
      "\n",
      "\n",
      "(258, 279)\n",
      "(258, 279)\n",
      "X shape is (324900, 7)\n",
      "8  level\n",
      "\n",
      "\n",
      "(294, 298)\n",
      "(294, 298)\n",
      "X shape is (323761, 7)\n",
      "9  level\n",
      "\n",
      "\n",
      "(82, 106)\n",
      "(82, 106)\n",
      "X shape is (322624, 7)\n",
      "10  level\n",
      "\n",
      "\n",
      "(389, 414)\n",
      "(389, 414)\n",
      "X shape is (321489, 7)\n",
      "11  level\n",
      "\n",
      "\n",
      "(85, 95)\n",
      "(85, 95)\n",
      "X shape is (320356, 7)\n",
      "12  level\n",
      "\n",
      "\n",
      "(75, 106)\n",
      "(75, 106)\n",
      "X shape is (319225, 7)\n",
      "13  level\n",
      "\n",
      "\n",
      "(269, 318)\n",
      "(269, 318)\n",
      "X shape is (318096, 7)\n",
      "14  level\n",
      "\n",
      "\n",
      "(70, 101)\n",
      "(70, 101)\n",
      "X shape is (316969, 7)\n",
      "15  level\n",
      "\n",
      "\n",
      "(81, 103)\n",
      "(81, 103)\n",
      "X shape is (315844, 7)\n",
      "16  level\n",
      "\n",
      "\n",
      "(189, 373)\n",
      "(0, 1)\n",
      "[[ 0.04146845]]\n",
      "[[-20.36056954]]\n",
      "     pcost       dcost       gap    pres   dres\n",
      " 0: -1.3555e+05 -1.3562e+05  8e+01  3e-15  2e-02\n",
      " 1: -1.3559e+05 -1.3560e+05  4e+00  7e-15  1e-04\n",
      " 2: -1.3559e+05 -1.3559e+05  4e-02  3e-15  1e-06\n",
      " 3: -1.3559e+05 -1.3559e+05  4e-04  8e-16  1e-08\n",
      "Optimal solution found.\n",
      "8  iteration\n",
      "[[  60.7247873 ]\n",
      " [ -81.35613557]\n",
      " [ -75.43053505]\n",
      " [  23.99364893]\n",
      " [ -59.77456686]\n",
      " [  88.44887366]\n",
      " [ 493.17327869]]\n",
      "0  level\n",
      "\n",
      "\n",
      "(268, 298)\n",
      "(268, 298)\n",
      "X shape is (332929, 7)\n",
      "1  level\n",
      "\n",
      "\n",
      "(139, 166)\n",
      "(139, 166)\n",
      "X shape is (331776, 7)\n",
      "2  level\n",
      "\n",
      "\n",
      "(70, 104)\n",
      "(70, 104)\n",
      "X shape is (330625, 7)\n",
      "3  level\n",
      "\n",
      "\n",
      "(402, 411)\n",
      "(402, 411)\n",
      "X shape is (329476, 7)\n",
      "4  level\n",
      "\n",
      "\n",
      "(76, 104)\n",
      "(76, 104)\n",
      "X shape is (328329, 7)\n",
      "5  level\n",
      "\n",
      "\n",
      "(191, 195)\n",
      "(191, 195)\n",
      "X shape is (327184, 7)\n",
      "6  level\n",
      "\n",
      "\n",
      "(384, 429)\n",
      "(384, 429)\n",
      "X shape is (326041, 7)\n",
      "7  level\n",
      "\n",
      "\n",
      "(258, 279)\n",
      "(258, 279)\n",
      "X shape is (324900, 7)\n",
      "8  level\n",
      "\n",
      "\n",
      "(294, 298)\n",
      "(294, 298)\n",
      "X shape is (323761, 7)\n",
      "9  level\n",
      "\n",
      "\n",
      "(82, 106)\n",
      "(82, 106)\n",
      "X shape is (322624, 7)\n",
      "10  level\n",
      "\n",
      "\n",
      "(389, 414)\n",
      "(389, 414)\n",
      "X shape is (321489, 7)\n",
      "11  level\n",
      "\n",
      "\n",
      "(85, 95)\n",
      "(85, 95)\n",
      "X shape is (320356, 7)\n",
      "12  level\n",
      "\n",
      "\n",
      "(75, 106)\n",
      "(75, 106)\n",
      "X shape is (319225, 7)\n",
      "13  level\n",
      "\n",
      "\n",
      "(269, 318)\n",
      "(269, 318)\n",
      "X shape is (318096, 7)\n",
      "14  level\n",
      "\n",
      "\n",
      "(70, 101)\n",
      "(70, 101)\n",
      "X shape is (316969, 7)\n",
      "15  level\n",
      "\n",
      "\n",
      "(81, 103)\n",
      "(81, 103)\n",
      "X shape is (315844, 7)\n",
      "16  level\n",
      "\n",
      "\n",
      "(189, 373)\n",
      "(0, 1)\n",
      "[[ 0.04146763]]\n",
      "[[-20.36057]]\n",
      "     pcost       dcost       gap    pres   dres\n",
      " 0: -1.3555e+05 -1.3562e+05  8e+01  4e-15  2e-02\n",
      " 1: -1.3559e+05 -1.3560e+05  4e+00  4e-15  1e-04\n",
      " 2: -1.3559e+05 -1.3559e+05  4e-02  7e-15  1e-06\n",
      " 3: -1.3559e+05 -1.3559e+05  4e-04  1e-14  1e-08\n",
      "Optimal solution found.\n",
      "9  iteration\n",
      "[[  60.7247873 ]\n",
      " [ -81.35613408]\n",
      " [ -75.43053505]\n",
      " [  23.99364692]\n",
      " [ -59.77456715]\n",
      " [  88.44887366]\n",
      " [ 493.17327869]]\n",
      "0  level\n",
      "\n",
      "\n",
      "(268, 298)\n",
      "(268, 298)\n",
      "X shape is (332929, 7)\n",
      "1  level\n",
      "\n",
      "\n",
      "(139, 166)\n",
      "(139, 166)\n",
      "X shape is (331776, 7)\n",
      "2  level\n",
      "\n",
      "\n",
      "(70, 104)\n",
      "(70, 104)\n",
      "X shape is (330625, 7)\n",
      "3  level\n",
      "\n",
      "\n",
      "(402, 411)\n",
      "(402, 411)\n",
      "X shape is (329476, 7)\n",
      "4  level\n",
      "\n",
      "\n",
      "(76, 104)\n",
      "(76, 104)\n",
      "X shape is (328329, 7)\n",
      "5  level\n",
      "\n",
      "\n",
      "(191, 195)\n",
      "(191, 195)\n",
      "X shape is (327184, 7)\n",
      "6  level\n",
      "\n",
      "\n",
      "(384, 429)\n",
      "(384, 429)\n",
      "X shape is (326041, 7)\n",
      "7  level\n",
      "\n",
      "\n",
      "(258, 279)\n",
      "(258, 279)\n",
      "X shape is (324900, 7)\n",
      "8  level\n",
      "\n",
      "\n",
      "(294, 298)\n",
      "(294, 298)\n",
      "X shape is (323761, 7)\n",
      "9  level\n",
      "\n",
      "\n",
      "(82, 106)\n",
      "(82, 106)\n",
      "X shape is (322624, 7)\n",
      "10  level\n",
      "\n",
      "\n",
      "(389, 414)\n",
      "(389, 414)\n",
      "X shape is (321489, 7)\n",
      "11  level\n",
      "\n",
      "\n",
      "(85, 95)\n",
      "(85, 95)\n",
      "X shape is (320356, 7)\n",
      "12  level\n",
      "\n",
      "\n",
      "(75, 106)\n",
      "(75, 106)\n",
      "X shape is (319225, 7)\n",
      "13  level\n",
      "\n",
      "\n",
      "(269, 318)\n",
      "(269, 318)\n",
      "X shape is (318096, 7)\n",
      "14  level\n",
      "\n",
      "\n",
      "(70, 101)\n",
      "(70, 101)\n",
      "X shape is (316969, 7)\n",
      "15  level\n",
      "\n",
      "\n",
      "(81, 103)\n",
      "(81, 103)\n",
      "X shape is (315844, 7)\n",
      "16  level\n",
      "\n",
      "\n",
      "(189, 373)\n",
      "(0, 1)\n",
      "[[ 0.04146681]]\n",
      "[[-20.36057045]]\n",
      "     pcost       dcost       gap    pres   dres\n",
      " 0: -1.3555e+05 -1.3562e+05  8e+01  2e-15  2e-02\n",
      " 1: -1.3559e+05 -1.3560e+05  4e+00  1e-15  1e-04\n",
      " 2: -1.3559e+05 -1.3559e+05  4e-02  4e-15  1e-06\n",
      " 3: -1.3559e+05 -1.3559e+05  4e-04  1e-14  1e-08\n",
      "Optimal solution found.\n",
      "10  iteration\n",
      "[[  60.7247873 ]\n",
      " [ -81.35613259]\n",
      " [ -75.43053505]\n",
      " [  23.99364491]\n",
      " [ -59.77456744]\n",
      " [  88.44887366]\n",
      " [ 493.17327869]]\n",
      "0  level\n",
      "\n",
      "\n",
      "(268, 298)\n",
      "(268, 298)\n",
      "X shape is (332929, 7)\n",
      "1  level\n",
      "\n",
      "\n",
      "(139, 166)\n",
      "(139, 166)\n",
      "X shape is (331776, 7)\n",
      "2  level\n",
      "\n",
      "\n",
      "(70, 104)\n",
      "(70, 104)\n",
      "X shape is (330625, 7)\n",
      "3  level\n",
      "\n",
      "\n",
      "(402, 411)\n",
      "(402, 411)\n",
      "X shape is (329476, 7)\n",
      "4  level\n",
      "\n",
      "\n",
      "(76, 104)\n",
      "(76, 104)\n",
      "X shape is (328329, 7)\n",
      "5  level\n",
      "\n",
      "\n",
      "(191, 195)\n",
      "(191, 195)\n",
      "X shape is (327184, 7)\n",
      "6  level\n",
      "\n",
      "\n",
      "(384, 429)\n",
      "(384, 429)\n",
      "X shape is (326041, 7)\n",
      "7  level\n",
      "\n",
      "\n",
      "(258, 279)\n",
      "(258, 279)\n",
      "X shape is (324900, 7)\n",
      "8  level\n",
      "\n",
      "\n",
      "(294, 298)\n",
      "(294, 298)\n",
      "X shape is (323761, 7)\n",
      "9  level\n",
      "\n",
      "\n",
      "(82, 106)\n",
      "(82, 106)\n",
      "X shape is (322624, 7)\n",
      "10  level\n",
      "\n",
      "\n",
      "(389, 414)\n",
      "(389, 414)\n",
      "X shape is (321489, 7)\n",
      "11  level\n",
      "\n",
      "\n",
      "(85, 95)\n",
      "(85, 95)\n",
      "X shape is (320356, 7)\n",
      "12  level\n",
      "\n",
      "\n",
      "(75, 106)\n",
      "(75, 106)\n",
      "X shape is (319225, 7)\n",
      "13  level\n",
      "\n",
      "\n",
      "(269, 318)\n",
      "(269, 318)\n",
      "X shape is (318096, 7)\n",
      "14  level\n",
      "\n",
      "\n",
      "(70, 101)\n",
      "(70, 101)\n",
      "X shape is (316969, 7)\n",
      "15  level\n",
      "\n",
      "\n",
      "(81, 103)\n",
      "(81, 103)\n",
      "X shape is (315844, 7)\n",
      "16  level\n",
      "\n",
      "\n",
      "(189, 373)\n",
      "(0, 1)\n",
      "[[ 0.04146599]]\n",
      "[[-20.36057091]]\n",
      "     pcost       dcost       gap    pres   dres\n",
      " 0: -1.3555e+05 -1.3562e+05  8e+01  2e-15  2e-02\n",
      " 1: -1.3559e+05 -1.3560e+05  4e+00  4e-15  1e-04\n",
      " 2: -1.3559e+05 -1.3559e+05  4e-02  4e-15  1e-06\n",
      " 3: -1.3559e+05 -1.3559e+05  4e-04  4e-15  1e-08\n",
      "Optimal solution found.\n",
      "11  iteration\n",
      "[[  60.7247873 ]\n",
      " [ -81.3561311 ]\n",
      " [ -75.43053505]\n",
      " [  23.99364289]\n",
      " [ -59.77456773]\n",
      " [  88.44887366]\n",
      " [ 493.17327869]]\n",
      "0  level\n",
      "\n",
      "\n",
      "(268, 298)\n",
      "(268, 298)\n",
      "X shape is (332929, 7)\n",
      "1  level\n",
      "\n",
      "\n",
      "(139, 166)\n",
      "(139, 166)\n",
      "X shape is (331776, 7)\n",
      "2  level\n",
      "\n",
      "\n",
      "(70, 104)\n",
      "(70, 104)\n",
      "X shape is (330625, 7)\n",
      "3  level\n",
      "\n",
      "\n",
      "(402, 411)\n",
      "(402, 411)\n",
      "X shape is (329476, 7)\n",
      "4  level\n",
      "\n",
      "\n",
      "(76, 104)\n",
      "(76, 104)\n",
      "X shape is (328329, 7)\n",
      "5  level\n",
      "\n",
      "\n",
      "(191, 195)\n",
      "(191, 195)\n",
      "X shape is (327184, 7)\n",
      "6  level\n",
      "\n",
      "\n",
      "(384, 429)\n",
      "(384, 429)\n",
      "X shape is (326041, 7)\n",
      "7  level\n",
      "\n",
      "\n",
      "(258, 279)\n",
      "(258, 279)\n",
      "X shape is (324900, 7)\n"
     ]
    },
    {
     "ename": "KeyboardInterrupt",
     "evalue": "",
     "output_type": "error",
     "traceback": [
      "\u001b[0;31m---------------------------------------------------------------------------\u001b[0m",
      "\u001b[0;31mKeyboardInterrupt\u001b[0m                         Traceback (most recent call last)",
      "\u001b[0;32m<ipython-input-16-8541169cf0ea>\u001b[0m in \u001b[0;36m<module>\u001b[0;34m()\u001b[0m\n\u001b[0;32m----> 1\u001b[0;31m \u001b[0mw\u001b[0m \u001b[0;34m=\u001b[0m \u001b[0mtrain_errorDriven\u001b[0m\u001b[0;34m(\u001b[0m\u001b[0mX\u001b[0m\u001b[0;34m,\u001b[0m\u001b[0my\u001b[0m\u001b[0;34m,\u001b[0m\u001b[0mw0\u001b[0m\u001b[0;34m,\u001b[0m\u001b[0mth\u001b[0m\u001b[0;34m=\u001b[0m\u001b[0;36m0.0001\u001b[0m\u001b[0;34m,\u001b[0m\u001b[0mtau\u001b[0m\u001b[0;34m=\u001b[0m\u001b[0;36m0.05\u001b[0m\u001b[0;34m,\u001b[0m\u001b[0mn_run\u001b[0m\u001b[0;34m=\u001b[0m\u001b[0;36m200\u001b[0m\u001b[0;34m,\u001b[0m\u001b[0mR\u001b[0m\u001b[0;34m=\u001b[0m\u001b[0mn\u001b[0m\u001b[0;34m)\u001b[0m\u001b[0;34m\u001b[0m\u001b[0m\n\u001b[0m",
      "\u001b[0;32m<ipython-input-10-01a234b6ba46>\u001b[0m in \u001b[0;36mtrain_errorDriven\u001b[0;34m(X, y, w0, th, tau, n_run, R)\u001b[0m\n\u001b[1;32m     39\u001b[0m                 \u001b[0;32mbreak\u001b[0m\u001b[0;34m\u001b[0m\u001b[0m\n\u001b[1;32m     40\u001b[0m             \u001b[0mprint\u001b[0m\u001b[0;34m(\u001b[0m\u001b[0;34m'X shape is'\u001b[0m\u001b[0;34m,\u001b[0m\u001b[0mX\u001b[0m\u001b[0;34m.\u001b[0m\u001b[0mshape\u001b[0m\u001b[0;34m)\u001b[0m\u001b[0;34m\u001b[0m\u001b[0m\n\u001b[0;32m---> 41\u001b[0;31m             \u001b[0mX\u001b[0m \u001b[0;34m=\u001b[0m \u001b[0mupdateX\u001b[0m\u001b[0;34m(\u001b[0m\u001b[0mpred_ind\u001b[0m\u001b[0;34m,\u001b[0m\u001b[0mX\u001b[0m\u001b[0;34m)\u001b[0m\u001b[0;34m\u001b[0m\u001b[0m\n\u001b[0m\u001b[1;32m     42\u001b[0m             \u001b[0mM\u001b[0m \u001b[0;34m=\u001b[0m \u001b[0mnp\u001b[0m\u001b[0;34m.\u001b[0m\u001b[0mcopy\u001b[0m\u001b[0;34m(\u001b[0m\u001b[0mnew_M\u001b[0m\u001b[0;34m)\u001b[0m\u001b[0;34m\u001b[0m\u001b[0m\n\u001b[1;32m     43\u001b[0m             \u001b[0mt\u001b[0m \u001b[0;34m=\u001b[0m \u001b[0mnp\u001b[0m\u001b[0;34m.\u001b[0m\u001b[0mcopy\u001b[0m\u001b[0;34m(\u001b[0m\u001b[0mnew_t\u001b[0m\u001b[0;34m)\u001b[0m\u001b[0;34m\u001b[0m\u001b[0m\n",
      "\u001b[0;32m<ipython-input-9-af190d6405bb>\u001b[0m in \u001b[0;36mupdateX\u001b[0;34m(pred_ind, X)\u001b[0m\n\u001b[1;32m     19\u001b[0m \u001b[0;34m\u001b[0m\u001b[0m\n\u001b[1;32m     20\u001b[0m     \u001b[0mnew_X\u001b[0m \u001b[0;34m=\u001b[0m \u001b[0mnp\u001b[0m\u001b[0;34m.\u001b[0m\u001b[0mdelete\u001b[0m\u001b[0;34m(\u001b[0m\u001b[0mnew_X\u001b[0m\u001b[0;34m,\u001b[0m\u001b[0mj\u001b[0m\u001b[0;34m,\u001b[0m\u001b[0;36m0\u001b[0m\u001b[0;34m)\u001b[0m\u001b[0;34m\u001b[0m\u001b[0m\n\u001b[0;32m---> 21\u001b[0;31m     \u001b[0mnew_X\u001b[0m \u001b[0;34m=\u001b[0m \u001b[0mnp\u001b[0m\u001b[0;34m.\u001b[0m\u001b[0mdelete\u001b[0m\u001b[0;34m(\u001b[0m\u001b[0mnew_X\u001b[0m\u001b[0;34m,\u001b[0m\u001b[0mj\u001b[0m\u001b[0;34m,\u001b[0m\u001b[0;36m1\u001b[0m\u001b[0;34m)\u001b[0m\u001b[0;34m\u001b[0m\u001b[0m\n\u001b[0m\u001b[1;32m     22\u001b[0m \u001b[0;34m\u001b[0m\u001b[0m\n\u001b[1;32m     23\u001b[0m     \u001b[0mnew_X\u001b[0m \u001b[0;34m=\u001b[0m \u001b[0mnew_X\u001b[0m\u001b[0;34m.\u001b[0m\u001b[0mreshape\u001b[0m\u001b[0;34m(\u001b[0m\u001b[0;34m(\u001b[0m\u001b[0;34m(\u001b[0m\u001b[0mc\u001b[0m\u001b[0;34m-\u001b[0m\u001b[0;36m1\u001b[0m\u001b[0;34m)\u001b[0m\u001b[0;34m*\u001b[0m\u001b[0;34m(\u001b[0m\u001b[0mc\u001b[0m\u001b[0;34m-\u001b[0m\u001b[0;36m1\u001b[0m\u001b[0;34m)\u001b[0m\u001b[0;34m,\u001b[0m\u001b[0mk\u001b[0m\u001b[0;34m)\u001b[0m\u001b[0;34m)\u001b[0m\u001b[0;34m\u001b[0m\u001b[0m\n",
      "\u001b[0;32m/Users/Zoe/anaconda/lib/python3.4/site-packages/numpy/lib/function_base.py\u001b[0m in \u001b[0;36mdelete\u001b[0;34m(arr, obj, axis)\u001b[0m\n\u001b[1;32m   4698\u001b[0m         \u001b[0mslobj2\u001b[0m \u001b[0;34m=\u001b[0m \u001b[0;34m[\u001b[0m\u001b[0mslice\u001b[0m\u001b[0;34m(\u001b[0m\u001b[0;32mNone\u001b[0m\u001b[0;34m)\u001b[0m\u001b[0;34m]\u001b[0m\u001b[0;34m*\u001b[0m\u001b[0mndim\u001b[0m\u001b[0;34m\u001b[0m\u001b[0m\n\u001b[1;32m   4699\u001b[0m         \u001b[0mslobj2\u001b[0m\u001b[0;34m[\u001b[0m\u001b[0maxis\u001b[0m\u001b[0;34m]\u001b[0m \u001b[0;34m=\u001b[0m \u001b[0mslice\u001b[0m\u001b[0;34m(\u001b[0m\u001b[0mobj\u001b[0m\u001b[0;34m+\u001b[0m\u001b[0;36m1\u001b[0m\u001b[0;34m,\u001b[0m \u001b[0;32mNone\u001b[0m\u001b[0;34m)\u001b[0m\u001b[0;34m\u001b[0m\u001b[0m\n\u001b[0;32m-> 4700\u001b[0;31m         \u001b[0mnew\u001b[0m\u001b[0;34m[\u001b[0m\u001b[0mslobj\u001b[0m\u001b[0;34m]\u001b[0m \u001b[0;34m=\u001b[0m \u001b[0marr\u001b[0m\u001b[0;34m[\u001b[0m\u001b[0mslobj2\u001b[0m\u001b[0;34m]\u001b[0m\u001b[0;34m\u001b[0m\u001b[0m\n\u001b[0m\u001b[1;32m   4701\u001b[0m     \u001b[0;32melse\u001b[0m\u001b[0;34m:\u001b[0m\u001b[0;34m\u001b[0m\u001b[0m\n\u001b[1;32m   4702\u001b[0m         \u001b[0;32mif\u001b[0m \u001b[0mobj\u001b[0m\u001b[0;34m.\u001b[0m\u001b[0msize\u001b[0m \u001b[0;34m==\u001b[0m \u001b[0;36m0\u001b[0m \u001b[0;32mand\u001b[0m \u001b[0;32mnot\u001b[0m \u001b[0misinstance\u001b[0m\u001b[0;34m(\u001b[0m\u001b[0m_obj\u001b[0m\u001b[0;34m,\u001b[0m \u001b[0mnp\u001b[0m\u001b[0;34m.\u001b[0m\u001b[0mndarray\u001b[0m\u001b[0;34m)\u001b[0m\u001b[0;34m:\u001b[0m\u001b[0;34m\u001b[0m\u001b[0m\n",
      "\u001b[0;31mKeyboardInterrupt\u001b[0m: "
     ]
    }
   ],
   "source": [
    "w = train_errorDriven(X,y,w0,th=0.0001,tau=0.05,n_run=200,R=n)"
   ]
  },
  {
   "cell_type": "markdown",
   "metadata": {
    "collapsed": false
   },
   "source": [
    "# Training error"
   ]
  },
  {
   "cell_type": "code",
   "execution_count": 17,
   "metadata": {
    "collapsed": true
   },
   "outputs": [],
   "source": [
    "w = np.copy(w0)"
   ]
  },
  {
   "cell_type": "code",
   "execution_count": 18,
   "metadata": {
    "collapsed": true
   },
   "outputs": [],
   "source": [
    "T = predTree(t0,X,w,t0.shape[0])"
   ]
  },
  {
   "cell_type": "code",
   "execution_count": 19,
   "metadata": {
    "collapsed": false
   },
   "outputs": [
    {
     "data": {
      "text/plain": [
       "[<matplotlib.lines.Line2D at 0x11c4a6d68>]"
      ]
     },
     "execution_count": 19,
     "metadata": {},
     "output_type": "execute_result"
    },
    {
     "data": {
      "image/png": "[encoded data removed]",
      "text/plain": [
       "<matplotlib.figure.Figure at 0x104694b70>"
      ]
     },
     "metadata": {},
     "output_type": "display_data"
    }
   ],
   "source": [
    "# plot score against clustering step\n",
    "F1 = [trueScore(x,(y_D+np.eye(t0.shape[0]))) for x in T]\n",
    "n_t = np.array(range(len(F1)))\n",
    "plt.plot(n_t,np.array(F1))"
   ]
  },
  {
   "cell_type": "code",
   "execution_count": 20,
   "metadata": {
    "collapsed": false
   },
   "outputs": [
    {
     "data": {
      "text/plain": [
       "51"
      ]
     },
     "execution_count": 20,
     "metadata": {},
     "output_type": "execute_result"
    }
   ],
   "source": [
    "n_cluster = np.unique(T[F1.index(max(F1))]).shape[0]\n",
    "n_cluster"
   ]
  },
  {
   "cell_type": "code",
   "execution_count": 36,
   "metadata": {
    "collapsed": false
   },
   "outputs": [],
   "source": [
    "#precision = [trueScore(x,(y_D+np.eye(t0.shape[0])),'precision') for x in T]\n",
    "#n_t = np.array(range(len(precision)))\n",
    "#plt.plot(n_t,np.array(precision))\n",
    "#recall = [trueScore(x,(y_D+np.eye(t0.shape[0])),'recall') for x in T]\n",
    "#n_t = np.array(range(len(recall)))\n",
    "#plt.plot(n_t,np.array(recall))"
   ]
  },
  {
   "cell_type": "code",
   "execution_count": 21,
   "metadata": {
    "collapsed": false,
    "scrolled": true
   },
   "outputs": [
    {
     "data": {
      "text/plain": [
       "[<matplotlib.lines.Line2D at 0x11c195eb8>]"
      ]
     },
     "execution_count": 21,
     "metadata": {},
     "output_type": "execute_result"
    },
    {
     "data": {
      "image/png": "[encoded data removed]",
      "text/plain": [
       "<matplotlib.figure.Figure at 0x104694630>"
      ]
     },
     "metadata": {},
     "output_type": "display_data"
    }
   ],
   "source": [
    "acc = [trueScore(x,(y_D+np.eye(t0.shape[0])),'accuracy') for x in T]\n",
    "n_t = np.array(range(len(acc)))\n",
    "plt.plot(n_t,np.array(acc))"
   ]
  },
  {
   "cell_type": "code",
   "execution_count": 22,
   "metadata": {
    "collapsed": false
   },
   "outputs": [
    {
     "data": {
      "text/plain": [
       "0.95085739001408709"
      ]
     },
     "execution_count": 22,
     "metadata": {},
     "output_type": "execute_result"
    }
   ],
   "source": [
    "acc[n_cluster]"
   ]
  },
  {
   "cell_type": "markdown",
   "metadata": {
    "collapsed": true
   },
   "source": [
    "# Test error"
   ]
  },
  {
   "cell_type": "markdown",
   "metadata": {},
   "source": [
    "## Read Data"
   ]
  },
  {
   "cell_type": "markdown",
   "metadata": {},
   "source": [
    "## Data set 3 n_author = 61"
   ]
  },
  {
   "cell_type": "code",
   "execution_count": 58,
   "metadata": {
    "collapsed": true
   },
   "outputs": [],
   "source": [
    "# read data\n",
    "n_author = 61\n",
    "i = 3\n",
    "fpath = '../data/feature'+str(i)+'.csv'\n",
    "test_df = pd.DataFrame.from_csv(fpath)\n",
    "n = int(np.sqrt(test_df.shape[0]))\n",
    "test_X = test_df.ix[:,['coauthor','journal','tfidf_sml','edit_dist','edit_dist_sml','bigram','trigram']].values\n",
    "test_y = test_df['is_same'].values\n",
    "test_y_D = test_y.reshape((n,n))\n",
    "test_y_D = np.triu(test_y_D, k=1)\n",
    "test_t0 = np.array([i for i in range(n)])\n",
    "test_w0 = np.copy(w)\n",
    "test_M0 = test_X.dot(test_w0).reshape((n,n))\n",
    "test_M0 = np.triu(test_M0, k=1)\n",
    "T = predTree(test_t0,test_X,w,test_t0.shape[0])"
   ]
  },
  {
   "cell_type": "code",
   "execution_count": 59,
   "metadata": {
    "collapsed": true
   },
   "outputs": [],
   "source": [
    "# plot score against clustering step\n",
    "F1 = [trueScore(x,(test_y_D+np.eye(test_t0.shape[0]))) for x in T]\n",
    "acc = [trueScore(x,(test_y_D+np.eye(test_t0.shape[0])),'accuracy') for x in T]"
   ]
  },
  {
   "cell_type": "code",
   "execution_count": 60,
   "metadata": {
    "collapsed": false
   },
   "outputs": [
    {
     "data": {
      "image/png": "[encoded data removed]",
      "text/plain": [
       "<matplotlib.figure.Figure at 0x11a69d4e0>"
      ]
     },
     "metadata": {},
     "output_type": "display_data"
    }
   ],
   "source": [
    "n_t = np.array(range(len(F1)))\n",
    "plt.ylabel('F1 Score',fontsize=12)\n",
    "plt.xlabel('no.Step',fontsize=12)\n",
    "title = 'dataset '+str(i)\n",
    "plt.title(title,fontsize=15)\n",
    "plt.plot(n_t,np.array(F1))\n",
    "save_path = '../figs/alg5_F1_'+str(i)+'.png'\n",
    "plt.savefig(save_path)"
   ]
  },
  {
   "cell_type": "code",
   "execution_count": 61,
   "metadata": {
    "collapsed": false
   },
   "outputs": [
    {
     "name": "stdout",
     "output_type": "stream",
     "text": [
      "predicted distinct author number is:  107\n",
      "F1 score at predicted author number is:  0.28\n",
      "F1 score at true author number is:  0.27\n"
     ]
    }
   ],
   "source": [
    "n_cluster = np.unique(T[F1.index(max(F1))]).shape[0]\n",
    "print('predicted distinct author number is: ',n_cluster)\n",
    "print('F1 score at predicted author number is: ',round(F1[n-n_cluster],3))\n",
    "print('F1 score at true author number is: ',round(F1[n-n_author],3))"
   ]
  },
  {
   "cell_type": "code",
   "execution_count": 62,
   "metadata": {
    "collapsed": false
   },
   "outputs": [
    {
     "data": {
      "image/png": "[encoded data removed]",
      "text/plain": [
       "<matplotlib.figure.Figure at 0x11a7eb978>"
      ]
     },
     "metadata": {},
     "output_type": "display_data"
    }
   ],
   "source": [
    "n_t = np.array(range(len(acc)))\n",
    "plt.ylabel('Accuracy',fontsize=12)\n",
    "plt.xlabel('no.Step',fontsize=12)\n",
    "title = 'dataset '+str(i)\n",
    "plt.title(title,fontsize=15)\n",
    "plt.plot(n_t,np.array(acc))\n",
    "save_path = '../figs/alg5_acc_'+str(i)+'.png'\n",
    "plt.savefig(save_path)"
   ]
  },
  {
   "cell_type": "code",
   "execution_count": 63,
   "metadata": {
    "collapsed": false
   },
   "outputs": [
    {
     "name": "stdout",
     "output_type": "stream",
     "text": [
      "accuracy at predicted author number is:  0.964\n",
      "accuracy at true author number is:  0.957\n"
     ]
    }
   ],
   "source": [
    "#n_cluster = np.unique(T[F1.index(max(F1))]).shape[0]\n",
    "#print('predicted distinct author number is: ',n_cluster)\n",
    "print('accuracy at predicted author number is: ',round(acc[n-n_cluster],3))\n",
    "print('accuracy at true author number is: ',round(acc[n-n_author],3))"
   ]
  },
  {
   "cell_type": "markdown",
   "metadata": {},
   "source": [
    "## Data set 5 n_author = 100"
   ]
  },
  {
   "cell_type": "code",
   "execution_count": 23,
   "metadata": {
    "collapsed": true
   },
   "outputs": [],
   "source": [
    "# read data\n",
    "n_author = 100\n",
    "i = 5\n",
    "fpath = '../data/feature'+str(i)+'.csv'\n",
    "test_df = pd.DataFrame.from_csv(fpath)\n",
    "n = int(np.sqrt(test_df.shape[0]))\n",
    "test_X = test_df.ix[:,['coauthor','journal','tfidf_sml','edit_dist','edit_dist_sml','bigram','trigram']].values\n",
    "test_y = test_df['is_same'].values\n",
    "test_y_D = test_y.reshape((n,n))\n",
    "test_y_D = np.triu(test_y_D, k=1)\n",
    "test_t0 = np.array([i for i in range(n)])\n",
    "test_w0 = np.copy(w)\n",
    "test_M0 = test_X.dot(test_w0).reshape((n,n))\n",
    "test_M0 = np.triu(test_M0, k=1)\n",
    "T = predTree(test_t0,test_X,w,test_t0.shape[0])"
   ]
  },
  {
   "cell_type": "code",
   "execution_count": null,
   "metadata": {
    "collapsed": true
   },
   "outputs": [],
   "source": [
    "# plot score against clustering step\n",
    "F1 = [trueScore(x,(test_y_D+np.eye(test_t0.shape[0]))) for x in T]\n",
    "acc = [trueScore(x,(test_y_D+np.eye(test_t0.shape[0])),'accuracy') for x in T]"
   ]
  },
  {
   "cell_type": "code",
   "execution_count": 46,
   "metadata": {
    "collapsed": false
   },
   "outputs": [
    {
     "data": {
      "image/png": "[encoded data removed]",
      "text/plain": [
       "<matplotlib.figure.Figure at 0x11a66df60>"
      ]
     },
     "metadata": {},
     "output_type": "display_data"
    }
   ],
   "source": [
    "n_t = np.array(range(len(F1)))\n",
    "plt.ylabel('F1 Score',fontsize=12)\n",
    "plt.xlabel('no.Step',fontsize=12)\n",
    "title = 'dataset '+str(i)\n",
    "plt.title(title,fontsize=15)\n",
    "plt.plot(n_t,np.array(F1))\n",
    "save_path = '../figs/alg5_F1_'+str(i)+'.png'\n",
    "plt.savefig(save_path)"
   ]
  },
  {
   "cell_type": "code",
   "execution_count": 56,
   "metadata": {
    "collapsed": false
   },
   "outputs": [
    {
     "name": "stdout",
     "output_type": "stream",
     "text": [
      "predicted distinct author number is:  215\n",
      "F1 score at predicted author number is:  0.308\n",
      "F1 score at true author number is:  0.268\n"
     ]
    }
   ],
   "source": [
    "n_cluster = np.unique(T[F1.index(max(F1))]).shape[0]\n",
    "print('predicted distinct author number is: ',n_cluster)\n",
    "print('F1 score at predicted author number is: ',round(F1[n-n_cluster],3))\n",
    "print('F1 score at true author number is: ',round(F1[n-n_author],3))"
   ]
  },
  {
   "cell_type": "code",
   "execution_count": 45,
   "metadata": {
    "collapsed": false
   },
   "outputs": [
    {
     "data": {
      "image/png": "[encoded data removed]",
      "text/plain": [
       "<matplotlib.figure.Figure at 0x1224d65f8>"
      ]
     },
     "metadata": {},
     "output_type": "display_data"
    }
   ],
   "source": [
    "n_t = np.array(range(len(acc)))\n",
    "plt.ylabel('Accuracy',fontsize=12)\n",
    "plt.xlabel('no.Step',fontsize=12)\n",
    "title = 'dataset '+str(i)\n",
    "plt.title(title,fontsize=15)\n",
    "plt.plot(n_t,np.array(acc))\n",
    "save_path = '../figs/alg5_acc_'+str(i)+'.png'\n",
    "plt.savefig(save_path)"
   ]
  },
  {
   "cell_type": "code",
   "execution_count": 57,
   "metadata": {
    "collapsed": false
   },
   "outputs": [
    {
     "name": "stdout",
     "output_type": "stream",
     "text": [
      "accuracy at predicted author number is:  0.983\n",
      "accuracy at true author number is:  0.967\n"
     ]
    }
   ],
   "source": [
    "#n_cluster = np.unique(T[F1.index(max(F1))]).shape[0]\n",
    "#print('predicted distinct author number is: ',n_cluster)\n",
    "print('accuracy at predicted author number is: ',round(acc[n-n_cluster],3))\n",
    "print('accuracy at true author number is: ',round(acc[n-n_author],3))"
   ]
  },
  {
   "cell_type": "markdown",
   "metadata": {},
   "source": [
    "## Data set 8 n_author = 30"
   ]
  },
  {
   "cell_type": "code",
   "execution_count": 64,
   "metadata": {
    "collapsed": true
   },
   "outputs": [],
   "source": [
    "# read data\n",
    "n_author = 30\n",
    "i = 8\n",
    "fpath = '../data/feature'+str(i)+'.csv'\n",
    "test_df = pd.DataFrame.from_csv(fpath)\n",
    "n = int(np.sqrt(test_df.shape[0]))\n",
    "test_X = test_df.ix[:,['coauthor','journal','tfidf_sml','edit_dist','edit_dist_sml','bigram','trigram']].values\n",
    "test_y = test_df['is_same'].values\n",
    "test_y_D = test_y.reshape((n,n))\n",
    "test_y_D = np.triu(test_y_D, k=1)\n",
    "test_t0 = np.array([i for i in range(n)])\n",
    "test_w0 = np.copy(w)\n",
    "test_M0 = test_X.dot(test_w0).reshape((n,n))\n",
    "test_M0 = np.triu(test_M0, k=1)\n",
    "T = predTree(test_t0,test_X,w,test_t0.shape[0])"
   ]
  },
  {
   "cell_type": "code",
   "execution_count": 65,
   "metadata": {
    "collapsed": true
   },
   "outputs": [],
   "source": [
    "# plot score against clustering step\n",
    "F1 = [trueScore(x,(test_y_D+np.eye(test_t0.shape[0]))) for x in T]\n",
    "acc = [trueScore(x,(test_y_D+np.eye(test_t0.shape[0])),'accuracy') for x in T]"
   ]
  },
  {
   "cell_type": "code",
   "execution_count": 66,
   "metadata": {
    "collapsed": false
   },
   "outputs": [
    {
     "data": {
      "image/png": "[encoded data removed]",
      "text/plain": [
       "<matplotlib.figure.Figure at 0x11ac32ac8>"
      ]
     },
     "metadata": {},
     "output_type": "display_data"
    }
   ],
   "source": [
    "n_t = np.array(range(len(F1)))\n",
    "plt.ylabel('F1 Score',fontsize=12)\n",
    "plt.xlabel('no.Step',fontsize=12)\n",
    "title = 'dataset '+str(i)\n",
    "plt.title(title,fontsize=15)\n",
    "plt.plot(n_t,np.array(F1))\n",
    "save_path = '../figs/alg5_F1_'+str(i)+'.png'\n",
    "plt.savefig(save_path)"
   ]
  },
  {
   "cell_type": "code",
   "execution_count": 67,
   "metadata": {
    "collapsed": false
   },
   "outputs": [
    {
     "name": "stdout",
     "output_type": "stream",
     "text": [
      "predicted distinct author number is:  66\n",
      "F1 score at predicted author number is:  0.26\n",
      "F1 score at true author number is:  0.234\n"
     ]
    }
   ],
   "source": [
    "n_cluster = np.unique(T[F1.index(max(F1))]).shape[0]\n",
    "print('predicted distinct author number is: ',n_cluster)\n",
    "print('F1 score at predicted author number is: ',round(F1[n-n_cluster],3))\n",
    "print('F1 score at true author number is: ',round(F1[n-n_author],3))"
   ]
  },
  {
   "cell_type": "code",
   "execution_count": 68,
   "metadata": {
    "collapsed": false
   },
   "outputs": [
    {
     "data": {
      "image/png": "[encoded data removed]",
      "text/plain": [
       "<matplotlib.figure.Figure at 0x11a7e1cf8>"
      ]
     },
     "metadata": {},
     "output_type": "display_data"
    }
   ],
   "source": [
    "n_t = np.array(range(len(acc)))\n",
    "plt.ylabel('Accuracy',fontsize=12)\n",
    "plt.xlabel('no.Step',fontsize=12)\n",
    "title = 'dataset '+str(i)\n",
    "plt.title(title,fontsize=15)\n",
    "plt.plot(n_t,np.array(acc))\n",
    "save_path = '../figs/alg5_acc_'+str(i)+'.png'\n",
    "plt.savefig(save_path)"
   ]
  },
  {
   "cell_type": "code",
   "execution_count": 69,
   "metadata": {
    "collapsed": false
   },
   "outputs": [
    {
     "name": "stdout",
     "output_type": "stream",
     "text": [
      "accuracy at predicted author number is:  0.888\n",
      "accuracy at true author number is:  0.849\n"
     ]
    }
   ],
   "source": [
    "#n_cluster = np.unique(T[F1.index(max(F1))]).shape[0]\n",
    "#print('predicted distinct author number is: ',n_cluster)\n",
    "print('accuracy at predicted author number is: ',round(acc[n-n_cluster],3))\n",
    "print('accuracy at true author number is: ',round(acc[n-n_author],3))"
   ]
  },
  {
   "cell_type": "markdown",
   "metadata": {},
   "source": [
    "## Data set 13 n_author = 86"
   ]
  },
  {
   "cell_type": "code",
   "execution_count": 71,
   "metadata": {
    "collapsed": true
   },
   "outputs": [],
   "source": [
    "# read data\n",
    "n_author = 86\n",
    "i = 13\n",
    "fpath = '../data/feature'+str(i)+'.csv'\n",
    "test_df = pd.DataFrame.from_csv(fpath)\n",
    "n = int(np.sqrt(test_df.shape[0]))\n",
    "test_X = test_df.ix[:,['coauthor','journal','tfidf_sml','edit_dist','edit_dist_sml','bigram','trigram']].values\n",
    "test_y = test_df['is_same'].values\n",
    "test_y_D = test_y.reshape((n,n))\n",
    "test_y_D = np.triu(test_y_D, k=1)\n",
    "test_t0 = np.array([i for i in range(n)])\n",
    "test_w0 = np.copy(w)\n",
    "test_M0 = test_X.dot(test_w0).reshape((n,n))\n",
    "test_M0 = np.triu(test_M0, k=1)\n",
    "T = predTree(test_t0,test_X,w,test_t0.shape[0])"
   ]
  },
  {
   "cell_type": "code",
   "execution_count": 75,
   "metadata": {
    "collapsed": false
   },
   "outputs": [],
   "source": [
    "# plot score against clustering step\n",
    "F1 = [trueScore(x,(test_y_D+np.eye(test_t0.shape[0]))) for x in T]\n",
    "acc = [trueScore(x,(test_y_D+np.eye(test_t0.shape[0])),'accuracy') for x in T]"
   ]
  },
  {
   "cell_type": "code",
   "execution_count": 73,
   "metadata": {
    "collapsed": false
   },
   "outputs": [
    {
     "data": {
      "image/png": "[encoded data removed]",
      "text/plain": [
       "<matplotlib.figure.Figure at 0x11ae3f630>"
      ]
     },
     "metadata": {},
     "output_type": "display_data"
    }
   ],
   "source": [
    "n_t = np.array(range(len(F1)))\n",
    "plt.ylabel('F1 Score',fontsize=12)\n",
    "plt.xlabel('no.Step',fontsize=12)\n",
    "title = 'dataset '+str(i)\n",
    "plt.title(title,fontsize=15)\n",
    "plt.plot(n_t,np.array(F1))\n",
    "save_path = '../figs/alg5_F1_'+str(i)+'.png'\n",
    "plt.savefig(save_path)"
   ]
  },
  {
   "cell_type": "code",
   "execution_count": 74,
   "metadata": {
    "collapsed": false
   },
   "outputs": [
    {
     "name": "stdout",
     "output_type": "stream",
     "text": [
      "predicted distinct author number is:  152\n",
      "F1 score at predicted author number is:  0.247\n",
      "F1 score at true author number is:  0.172\n"
     ]
    }
   ],
   "source": [
    "n_cluster = np.unique(T[F1.index(max(F1))]).shape[0]\n",
    "print('predicted distinct author number is: ',n_cluster)\n",
    "print('F1 score at predicted author number is: ',round(F1[n-n_cluster],3))\n",
    "print('F1 score at true author number is: ',round(F1[n-n_author],3))"
   ]
  },
  {
   "cell_type": "code",
   "execution_count": 76,
   "metadata": {
    "collapsed": false
   },
   "outputs": [
    {
     "data": {
      "image/png": "[encoded data removed]",
      "text/plain": [
       "<matplotlib.figure.Figure at 0x11b03da90>"
      ]
     },
     "metadata": {},
     "output_type": "display_data"
    }
   ],
   "source": [
    "n_t = np.array(range(len(acc)))\n",
    "plt.ylabel('Accuracy',fontsize=12)\n",
    "plt.xlabel('no.Step',fontsize=12)\n",
    "title = 'dataset '+str(i)\n",
    "plt.title(title,fontsize=15)\n",
    "plt.plot(n_t,np.array(acc))\n",
    "save_path = '../figs/alg5_acc_'+str(i)+'.png'\n",
    "plt.savefig(save_path)"
   ]
  },
  {
   "cell_type": "code",
   "execution_count": 77,
   "metadata": {
    "collapsed": false
   },
   "outputs": [
    {
     "name": "stdout",
     "output_type": "stream",
     "text": [
      "accuracy at predicted author number is:  0.964\n",
      "accuracy at true author number is:  0.919\n"
     ]
    }
   ],
   "source": [
    "#n_cluster = np.unique(T[F1.index(max(F1))]).shape[0]\n",
    "#print('predicted distinct author number is: ',n_cluster)\n",
    "print('accuracy at predicted author number is: ',round(acc[n-n_cluster],3))\n",
    "print('accuracy at true author number is: ',round(acc[n-n_author],3))"
   ]
  },
  {
   "cell_type": "code",
   "execution_count": null,
   "metadata": {
    "collapsed": true
   },
   "outputs": [],
   "source": []
  }
 ],
 "metadata": {
  "kernelspec": {
   "display_name": "Python 3",
   "language": "python",
   "name": "python3"
  },
  "language_info": {
   "codemirror_mode": {
    "name": "ipython",
    "version": 3
   },
   "file_extension": ".py",
   "mimetype": "text/x-python",
   "name": "python",
   "nbconvert_exporter": "python",
   "pygments_lexer": "ipython3",
   "version": "3.4.5"
  }
 },
 "nbformat": 4,
 "nbformat_minor": 0
}
